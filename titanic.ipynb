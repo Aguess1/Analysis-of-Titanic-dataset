{
 "cells": [
  {
   "cell_type": "code",
   "execution_count": 1,
   "id": "6b27debb-5a38-4c11-b0e9-538cc1bc5571",
   "metadata": {},
   "outputs": [],
   "source": [
    "import pandas as pd\n",
    "df = pd.read_csv('titanic.csv')"
   ]
  },
  {
   "cell_type": "code",
   "execution_count": 13,
   "id": "bb151684-783a-40b5-b986-71bd54c880fc",
   "metadata": {},
   "outputs": [
    {
     "data": {
      "text/plain": [
       "891"
      ]
     },
     "execution_count": 13,
     "metadata": {},
     "output_type": "execute_result"
    }
   ],
   "source": [
    "df.head()\n",
    "len(df)\n"
   ]
  },
  {
   "cell_type": "code",
   "execution_count": 11,
   "id": "f742da13-e537-4eca-8603-e1358e32dd67",
   "metadata": {},
   "outputs": [
    {
     "name": "stdout",
     "output_type": "stream",
     "text": [
      "Number of male passenger is  577\n",
      "Number of male passenger survived is  109\n",
      "Survival rate of male is  18.890814558058924\n"
     ]
    }
   ],
   "source": [
    "male = df[df.Sex == \"male\"]\n",
    "male_s = male[male.Survived == 1]\n",
    "print(\"Number of male passenger is \",len(male))\n",
    "print(\"Number of male passenger survived is \" , len(male_s))\n",
    "print(\"Survival rate of male is \" , ((len(male_s)/len(male))*100))"
   ]
  },
  {
   "cell_type": "code",
   "execution_count": 12,
   "id": "42cf5cdb-c49b-4ea7-8713-da10a09080a1",
   "metadata": {},
   "outputs": [
    {
     "name": "stdout",
     "output_type": "stream",
     "text": [
      "Number of female passengers is  314\n",
      "Number of female passenger survived is  233\n",
      "Survival rate of female is  74.20382165605095\n"
     ]
    }
   ],
   "source": [
    "female = df[df.Sex == \"female\"]\n",
    "female_s = female[female.Survived == 1]\n",
    "print(\"Number of female passengers is \" , len(female))\n",
    "print(\"Number of female passenger survived is \" , len(female_s))\n",
    "print(\"Survival rate of female is \" , ((len(female_s)/len(female))*100))"
   ]
  },
  {
   "cell_type": "code",
   "execution_count": 17,
   "id": "88719dad-7747-47af-a9b6-ce189945f1b6",
   "metadata": {},
   "outputs": [
    {
     "name": "stdout",
     "output_type": "stream",
     "text": [
      "First class survival rate is  24.242424242424242\n"
     ]
    }
   ],
   "source": [
    "fclass = df[df.Pclass == 1]\n",
    "print(\"First class survival rate is \" , ((len(fclass)/len(df))*100))"
   ]
  },
  {
   "cell_type": "code",
   "execution_count": 18,
   "id": "37663553-f380-4638-9f81-47f8fc2b9a8c",
   "metadata": {},
   "outputs": [
    {
     "name": "stdout",
     "output_type": "stream",
     "text": [
      "Second class survival rate is  20.65095398428732\n"
     ]
    }
   ],
   "source": [
    "sclass = df[df.Pclass == 2]\n",
    "print(\"Second class survival rate is \" , ((len(sclass)/len(df))*100))"
   ]
  },
  {
   "cell_type": "code",
   "execution_count": 19,
   "id": "78ab9d56-f6eb-46c0-9d3d-a2494bfe025c",
   "metadata": {},
   "outputs": [
    {
     "name": "stdout",
     "output_type": "stream",
     "text": [
      "Third class survival rate is  55.106621773288445\n"
     ]
    }
   ],
   "source": [
    "tclass = df[df.Pclass == 3]\n",
    "print(\"Third class survival rate is \" , ((len(tclass)/len(df))*100))"
   ]
  },
  {
   "cell_type": "code",
   "execution_count": 16,
   "id": "473e8f0e-3691-487e-9739-7394e4ff32e9",
   "metadata": {},
   "outputs": [
    {
     "name": "stdout",
     "output_type": "stream",
     "text": [
      "First class male survival rate is  36.885245901639344\n"
     ]
    }
   ],
   "source": [
    "fcmale = male[male.Pclass == 1]\n",
    "fcmale_s = fcmale[fcmale.Survived == 1]\n",
    "print(\"First class male survival rate is \" , ((len(fcmale_s)/len(fcmale))*100))"
   ]
  },
  {
   "cell_type": "code",
   "execution_count": 21,
   "id": "ec40a283-65b7-45a8-a3fb-d79f2f49c91d",
   "metadata": {},
   "outputs": [
    {
     "name": "stdout",
     "output_type": "stream",
     "text": [
      "First class female survival rate is  96.80851063829788\n"
     ]
    }
   ],
   "source": [
    "fcfemale = female[female.Pclass == 1]\n",
    "fcfemale_s = fcfemale[fcfemale.Survived == 1]\n",
    "print(\"First class female survival rate is \" , ((len(fcfemale_s)/len(fcfemale))*100))"
   ]
  },
  {
   "cell_type": "code",
   "execution_count": 22,
   "id": "8b70a523-e111-45e3-a3c8-4ce9fe4dd985",
   "metadata": {},
   "outputs": [
    {
     "name": "stdout",
     "output_type": "stream",
     "text": [
      "Second class male survival rate is  15.74074074074074\n"
     ]
    }
   ],
   "source": [
    "scmale = male[male.Pclass == 2]\n",
    "scmale_s = scmale[scmale.Survived == 1]\n",
    "print(\"Second class male survival rate is \" , ((len(scmale_s)/len(scmale))*100))"
   ]
  },
  {
   "cell_type": "code",
   "execution_count": 23,
   "id": "c49257a5-d987-43d7-85e9-bc0fc2b01830",
   "metadata": {},
   "outputs": [
    {
     "name": "stdout",
     "output_type": "stream",
     "text": [
      "Second class female survival rate is  92.10526315789474\n"
     ]
    }
   ],
   "source": [
    "scfemale = female[female.Pclass == 2]\n",
    "scfemale_s = scfemale[scfemale.Survived == 1]\n",
    "print(\"Second class female survival rate is \" , ((len(scfemale_s)/len(scfemale))*100))"
   ]
  },
  {
   "cell_type": "code",
   "execution_count": 25,
   "id": "d905e0c8-ddfd-44c9-8019-96bf70f2ec55",
   "metadata": {},
   "outputs": [
    {
     "name": "stdout",
     "output_type": "stream",
     "text": [
      "Third class male survival rate is  13.544668587896252\n"
     ]
    }
   ],
   "source": [
    "tcmale = male[male.Pclass == 3]\n",
    "tcmale_s = tcmale[tcmale.Survived == 1]\n",
    "print(\"Third class male survival rate is \" , ((len(tcmale_s)/len(tcmale))*100))"
   ]
  },
  {
   "cell_type": "code",
   "execution_count": 24,
   "id": "b2d0b3b3-d4a7-431a-ad9e-00e4c89d7625",
   "metadata": {},
   "outputs": [
    {
     "name": "stdout",
     "output_type": "stream",
     "text": [
      "Third class female survival rate is  50.0\n"
     ]
    }
   ],
   "source": [
    "tcfemale = female[female.Pclass == 3]\n",
    "tcfemale_s = tcfemale[tcfemale.Survived == 1]\n",
    "print(\"Third class female survival rate is \" , ((len(tcfemale_s)/len(tcfemale))*100))"
   ]
  },
  {
   "cell_type": "code",
   "execution_count": null,
   "id": "364a8bed-0ae8-470b-ad0a-155b40ef07f6",
   "metadata": {},
   "outputs": [],
   "source": []
  }
 ],
 "metadata": {
  "kernelspec": {
   "display_name": "Python 3 (ipykernel)",
   "language": "python",
   "name": "python3"
  },
  "language_info": {
   "codemirror_mode": {
    "name": "ipython",
    "version": 3
   },
   "file_extension": ".py",
   "mimetype": "text/x-python",
   "name": "python",
   "nbconvert_exporter": "python",
   "pygments_lexer": "ipython3",
   "version": "3.12.5"
  }
 },
 "nbformat": 4,
 "nbformat_minor": 5
}
